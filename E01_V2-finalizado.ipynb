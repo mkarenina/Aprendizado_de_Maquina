{
  "cells": [
    {
      "cell_type": "markdown",
      "metadata": {
        "id": "view-in-github",
        "colab_type": "text"
      },
      "source": [
        "<a href=\"https://colab.research.google.com/github/mkarenina/Aprendizado_de_Maquina/blob/main/E01_V2-finalizado.ipynb\" target=\"_parent\"><img src=\"https://colab.research.google.com/assets/colab-badge.svg\" alt=\"Open In Colab\"/></a>"
      ]
    },
    {
      "cell_type": "markdown",
      "metadata": {
        "id": "cfed7Qv1b4OL"
      },
      "source": [
        "# SCC0276 - Aprendizado de Máquina\n",
        "Universidade de São Paulo (USP)\n",
        "\n",
        "*Docente*: Fernando Pereira dos Santos\n",
        "\n",
        "*PAE*: Leo Sampaio Ferraz Ribeiro\n",
        "\n",
        "## Lista de Exercícios 01\n",
        "\n",
        "- Entrega: 02/05\n",
        "\n",
        "- Use esse notebook para realização dos exercícios que envolvem código e por fim enviem suas respostas através do questionátio disponível no e-disciplinas. \n",
        "\n",
        "- Qualquer dúvida, não hesitem em perguntar. Não copiem respostas ou códigos de de colegas."
      ]
    },
    {
      "cell_type": "markdown",
      "metadata": {
        "id": "Jnjz8rHvb4OS"
      },
      "source": [
        "### Questão 01. Relacione os problemas descritos abaixo com os tipos de problemas de Aprendizado de Máquinas vistos em aula.\n",
        "\n",
        "-----\n",
        "#### Problemas\n",
        "\n",
        "(I) Um sistema que recebe pagamento em moedas para uma máquina automática de café. Os desenvolvedores pedem para o Banco Central as especificações exatas de cada moeda usada no Brasil, incluindo tamanho, peso e valor. Essas informações são usadas para criar um algoritimo de identificação de moedas\n",
        "\n",
        "(II) Um sistema que recebe pagamento em moedas para uma máquina automática de café. Os desenvolvedores coletam uma grande quantidade de moedas usadas no Brasil e rotulam cada moeda com o valor correspondemnte; um algoritimo é desenvolvido para inferir uma função de classificação usando as moedas coletadas e os rótulos.\n",
        "\n",
        "(III) Um sistema de separação automática de talheres limpos no Restaurante Universitário. Os desenvolvedores coletam uma grande quantidade de talheres; um algoritimo é desenvolvido para inferir, considerando os talheres existentes, quantos tipos de talheres diferentes existem e em qual pilha novos talheres devem ser colocados.\n",
        "\n",
        "#### Tipos\n",
        "\n",
        "(1) Classificação\n",
        "\n",
        "(2) Regressão\n",
        "\n",
        "(3) Agrupamento\n",
        "\n",
        "(4) Não há aprendizado\n",
        "\n",
        "#### Relacione:\n",
        "\n",
        "(a) I-1, II-2, III-3\n",
        "\n",
        "(b) I-2, II-3, III-4\n",
        "\n",
        "(c) I-4, II-1, III-4\n",
        "\n",
        "(d) I-4, II-1, III-3"
      ]
    },
    {
      "cell_type": "markdown",
      "metadata": {
        "id": "vXrJkQqdb4OU"
      },
      "source": [
        "### Questão 02. Preencha os valores faltantes na base de dados usando (a) média e (b) mediana\n",
        "\n",
        "---\n",
        "\n",
        "Faça download dos dados (`dados.zip`) no edisciplinas. Carregue a base de dados `winequality-red-missing.csv` e preencha os dados faltantes, NaNs (a) na coluna `residual sugar` com a *média* e na coluna `quality` com a *mediana*.\n",
        "\n",
        "Após preenchimento, calcule a nova *média* de ambas colunas, qual foi o valor encontrado?\n",
        "\n",
        "(a) Aproximadamente 2.5 e 5.6\n",
        "\n",
        "(b) Aproximadamente 2.7 e 5.4\n",
        "\n",
        "(c) Aproximadamente 2.7 e 5.6\n",
        "\n",
        "(d) Aproximadamente 2.5 e 5.4"
      ]
    },
    {
      "cell_type": "code",
      "execution_count": null,
      "metadata": {
        "colab": {
          "base_uri": "https://localhost:8080/"
        },
        "id": "qnGY0cIRb4OU",
        "outputId": "2dafb84e-eeec-4ef0-c18a-aa53af40c3ec"
      },
      "outputs": [
        {
          "output_type": "stream",
          "name": "stdout",
          "text": [
            "Nova Média da coluna 'residual sugar': 2.5223569023569055\n",
            "Nova Média da coluna 'quality': 5.651657285803627\n"
          ]
        }
      ],
      "source": [
        "import pandas as pd\n",
        "import numpy as np\n",
        "import matplotlib.pyplot as plt\n",
        "\n",
        "data = pd.read_csv('/content/drive/MyDrive/Faculdade/Aprendizado de Máquina/winequality-red-missing.csv')\n",
        "data.head()\n",
        "\n",
        "#preenchimento dos dados da coluna 'residual sugar' com a MEDIA\n",
        "media = data.loc[data['residual sugar'].notnull(),'residual sugar'].mean()\n",
        "data['residual sugar'] = data['residual sugar'].fillna(media)\n",
        "\n",
        "#preenchimento dos dados da coluna 'residual sugar' com a MEDIA\n",
        "mediana = data.loc[data['quality'].notnull(),'quality'].median()\n",
        "data['quality'] = data['quality'].fillna(mediana)\n",
        "\n",
        "#cálculo da média da coluna 'residual sugar'\n",
        "nova_media_rs = data.loc[data['residual sugar'].notnull(),'residual sugar'].mean()\n",
        "\n",
        "#cálculo da média da coluna 'quality'\n",
        "nova_media_q = data.loc[data['quality'].notnull(),'quality'].mean()\n",
        "\n",
        "#prints resultados\n",
        "print(\"Nova Média da coluna 'residual sugar':\", nova_media_rs)\n",
        "print(\"Nova Média da coluna 'quality':\", nova_media_q)\n"
      ]
    },
    {
      "cell_type": "code",
      "source": [
        "from google.colab import drive\n",
        "drive.mount('/content/drive')"
      ],
      "metadata": {
        "colab": {
          "base_uri": "https://localhost:8080/"
        },
        "id": "rPMIb_NyjiHO",
        "outputId": "40fe7785-ec64-4651-cf53-6d7a0e3c2423"
      },
      "execution_count": null,
      "outputs": [
        {
          "output_type": "stream",
          "name": "stdout",
          "text": [
            "Mounted at /content/drive\n"
          ]
        }
      ]
    },
    {
      "cell_type": "markdown",
      "metadata": {
        "id": "ZzC8X0Zib4OW"
      },
      "source": [
        "### Questão 03.a e Questão 03.b Viés e Variância de modelos\n",
        "\n",
        "---\n",
        "\n",
        "Considere os seguintes modelos:\n",
        "\n",
        "(i) $f(x) = a_0 + a_1x$, onde $a_0$ é aprendido através de um algoritimo\n",
        "\n",
        "(ii) $f(x) = a_0 + a_1x + a_2x^2$, onde $a_0$ é aprendido através de um algoritimo\n",
        "\n",
        "(iii) $f(x) = a_0 + a_1x + a_2x^2$, onde $a_0, a_1, a_2$ são aprendidos através de um algoritmo \n",
        "\n",
        "(iv) $f(x) = a_0 + a_1x$, onde $a_0, a_1$ são aprendidos através de um algoritmo\n",
        "\n",
        "\n",
        "#### 3.a. Ordene os modelos considerando o Viés (*decrescente*, em caso de empate ordene pelo númeral romano):\n",
        "\n",
        "(a) i, iv, ii, iii\n",
        "\n",
        "(b) i, ii, iv, iii\n",
        "\n",
        "(c) iii, iv, i, ii\n",
        "\n",
        "(d) ii, iii, i, iv\n",
        "\n",
        "#### 3.b. Ordene os modelos considerando a Variância (*crescente*, em caso de empate ordene pelo númeral romano):\n",
        "\n",
        "(a) i, iv, ii, iii\n",
        "\n",
        "(b) i, ii, iv, iii\n",
        "\n",
        "(c) iii, iv, i, ii\n",
        "\n",
        "(d) ii, iii, i, iv"
      ]
    },
    {
      "cell_type": "markdown",
      "metadata": {
        "id": "64a_92iPb4OX"
      },
      "source": [
        "### Questão 04. Aplicação do conteúdo\n",
        "\n",
        "---\n",
        "\n",
        "Faça download dos dados (`dados.zip`) no edisciplinas. Carregue a base de dados `german.csv`. Essa base contém dados do sistema de crédito alemão (https://archive.ics.uci.edu/ml/datasets/statlog+(german+credit+data)). \n",
        "\n",
        "As alterações na base de dados devem ser realizadas sempre sobre os dados originais, para evitar o acúmulo de erros. A exceção é a parte (f), onde todas as alterações anteriores devem ser aplicadas pré-treinamento."
      ]
    },
    {
      "cell_type": "code",
      "execution_count": null,
      "metadata": {
        "colab": {
          "base_uri": "https://localhost:8080/",
          "height": 300
        },
        "id": "Dauklaj_b4OY",
        "outputId": "be6aa5c3-a29a-4040-a16c-b1088fa1c5a4"
      },
      "outputs": [
        {
          "output_type": "execute_result",
          "data": {
            "text/plain": [
              "     0   1    2    3       4    5    6  7    8     9  ...    11  12    13  \\\n",
              "0  A11   6  A34  A43  1169.0  A65  A75  4  A93  A101  ...  A121  67  A143   \n",
              "1  A12  48  A32  A43  5951.0  A61  A73  2  A92  A101  ...  A121  22  A143   \n",
              "2  A14  12  A34  A46  2096.0  A61  A74  2  A93  A101  ...  A121  49  A143   \n",
              "3  A11  42  A32  A42  7882.0  A61  A74  2  A93  A103  ...  A122  45  A143   \n",
              "4  A11  24  A33  A40  4870.0  A61  A73  3  A93  A101  ...  A124  53  A143   \n",
              "\n",
              "     14 15    16 17    18    19 20  \n",
              "0  A152  2  A173  1  A192  A201  1  \n",
              "1  A152  1  A173  1  A191  A201  2  \n",
              "2  A152  1  A172  2  A191  A201  1  \n",
              "3  A153  1  A173  2  A191  A201  1  \n",
              "4  A153  2  A173  2  A191  A201  2  \n",
              "\n",
              "[5 rows x 21 columns]"
            ],
            "text/html": [
              "\n",
              "  <div id=\"df-3242876d-1f52-43d2-b19d-349d6e74e8a9\">\n",
              "    <div class=\"colab-df-container\">\n",
              "      <div>\n",
              "<style scoped>\n",
              "    .dataframe tbody tr th:only-of-type {\n",
              "        vertical-align: middle;\n",
              "    }\n",
              "\n",
              "    .dataframe tbody tr th {\n",
              "        vertical-align: top;\n",
              "    }\n",
              "\n",
              "    .dataframe thead th {\n",
              "        text-align: right;\n",
              "    }\n",
              "</style>\n",
              "<table border=\"1\" class=\"dataframe\">\n",
              "  <thead>\n",
              "    <tr style=\"text-align: right;\">\n",
              "      <th></th>\n",
              "      <th>0</th>\n",
              "      <th>1</th>\n",
              "      <th>2</th>\n",
              "      <th>3</th>\n",
              "      <th>4</th>\n",
              "      <th>5</th>\n",
              "      <th>6</th>\n",
              "      <th>7</th>\n",
              "      <th>8</th>\n",
              "      <th>9</th>\n",
              "      <th>...</th>\n",
              "      <th>11</th>\n",
              "      <th>12</th>\n",
              "      <th>13</th>\n",
              "      <th>14</th>\n",
              "      <th>15</th>\n",
              "      <th>16</th>\n",
              "      <th>17</th>\n",
              "      <th>18</th>\n",
              "      <th>19</th>\n",
              "      <th>20</th>\n",
              "    </tr>\n",
              "  </thead>\n",
              "  <tbody>\n",
              "    <tr>\n",
              "      <th>0</th>\n",
              "      <td>A11</td>\n",
              "      <td>6</td>\n",
              "      <td>A34</td>\n",
              "      <td>A43</td>\n",
              "      <td>1169.0</td>\n",
              "      <td>A65</td>\n",
              "      <td>A75</td>\n",
              "      <td>4</td>\n",
              "      <td>A93</td>\n",
              "      <td>A101</td>\n",
              "      <td>...</td>\n",
              "      <td>A121</td>\n",
              "      <td>67</td>\n",
              "      <td>A143</td>\n",
              "      <td>A152</td>\n",
              "      <td>2</td>\n",
              "      <td>A173</td>\n",
              "      <td>1</td>\n",
              "      <td>A192</td>\n",
              "      <td>A201</td>\n",
              "      <td>1</td>\n",
              "    </tr>\n",
              "    <tr>\n",
              "      <th>1</th>\n",
              "      <td>A12</td>\n",
              "      <td>48</td>\n",
              "      <td>A32</td>\n",
              "      <td>A43</td>\n",
              "      <td>5951.0</td>\n",
              "      <td>A61</td>\n",
              "      <td>A73</td>\n",
              "      <td>2</td>\n",
              "      <td>A92</td>\n",
              "      <td>A101</td>\n",
              "      <td>...</td>\n",
              "      <td>A121</td>\n",
              "      <td>22</td>\n",
              "      <td>A143</td>\n",
              "      <td>A152</td>\n",
              "      <td>1</td>\n",
              "      <td>A173</td>\n",
              "      <td>1</td>\n",
              "      <td>A191</td>\n",
              "      <td>A201</td>\n",
              "      <td>2</td>\n",
              "    </tr>\n",
              "    <tr>\n",
              "      <th>2</th>\n",
              "      <td>A14</td>\n",
              "      <td>12</td>\n",
              "      <td>A34</td>\n",
              "      <td>A46</td>\n",
              "      <td>2096.0</td>\n",
              "      <td>A61</td>\n",
              "      <td>A74</td>\n",
              "      <td>2</td>\n",
              "      <td>A93</td>\n",
              "      <td>A101</td>\n",
              "      <td>...</td>\n",
              "      <td>A121</td>\n",
              "      <td>49</td>\n",
              "      <td>A143</td>\n",
              "      <td>A152</td>\n",
              "      <td>1</td>\n",
              "      <td>A172</td>\n",
              "      <td>2</td>\n",
              "      <td>A191</td>\n",
              "      <td>A201</td>\n",
              "      <td>1</td>\n",
              "    </tr>\n",
              "    <tr>\n",
              "      <th>3</th>\n",
              "      <td>A11</td>\n",
              "      <td>42</td>\n",
              "      <td>A32</td>\n",
              "      <td>A42</td>\n",
              "      <td>7882.0</td>\n",
              "      <td>A61</td>\n",
              "      <td>A74</td>\n",
              "      <td>2</td>\n",
              "      <td>A93</td>\n",
              "      <td>A103</td>\n",
              "      <td>...</td>\n",
              "      <td>A122</td>\n",
              "      <td>45</td>\n",
              "      <td>A143</td>\n",
              "      <td>A153</td>\n",
              "      <td>1</td>\n",
              "      <td>A173</td>\n",
              "      <td>2</td>\n",
              "      <td>A191</td>\n",
              "      <td>A201</td>\n",
              "      <td>1</td>\n",
              "    </tr>\n",
              "    <tr>\n",
              "      <th>4</th>\n",
              "      <td>A11</td>\n",
              "      <td>24</td>\n",
              "      <td>A33</td>\n",
              "      <td>A40</td>\n",
              "      <td>4870.0</td>\n",
              "      <td>A61</td>\n",
              "      <td>A73</td>\n",
              "      <td>3</td>\n",
              "      <td>A93</td>\n",
              "      <td>A101</td>\n",
              "      <td>...</td>\n",
              "      <td>A124</td>\n",
              "      <td>53</td>\n",
              "      <td>A143</td>\n",
              "      <td>A153</td>\n",
              "      <td>2</td>\n",
              "      <td>A173</td>\n",
              "      <td>2</td>\n",
              "      <td>A191</td>\n",
              "      <td>A201</td>\n",
              "      <td>2</td>\n",
              "    </tr>\n",
              "  </tbody>\n",
              "</table>\n",
              "<p>5 rows × 21 columns</p>\n",
              "</div>\n",
              "      <button class=\"colab-df-convert\" onclick=\"convertToInteractive('df-3242876d-1f52-43d2-b19d-349d6e74e8a9')\"\n",
              "              title=\"Convert this dataframe to an interactive table.\"\n",
              "              style=\"display:none;\">\n",
              "        \n",
              "  <svg xmlns=\"http://www.w3.org/2000/svg\" height=\"24px\"viewBox=\"0 0 24 24\"\n",
              "       width=\"24px\">\n",
              "    <path d=\"M0 0h24v24H0V0z\" fill=\"none\"/>\n",
              "    <path d=\"M18.56 5.44l.94 2.06.94-2.06 2.06-.94-2.06-.94-.94-2.06-.94 2.06-2.06.94zm-11 1L8.5 8.5l.94-2.06 2.06-.94-2.06-.94L8.5 2.5l-.94 2.06-2.06.94zm10 10l.94 2.06.94-2.06 2.06-.94-2.06-.94-.94-2.06-.94 2.06-2.06.94z\"/><path d=\"M17.41 7.96l-1.37-1.37c-.4-.4-.92-.59-1.43-.59-.52 0-1.04.2-1.43.59L10.3 9.45l-7.72 7.72c-.78.78-.78 2.05 0 2.83L4 21.41c.39.39.9.59 1.41.59.51 0 1.02-.2 1.41-.59l7.78-7.78 2.81-2.81c.8-.78.8-2.07 0-2.86zM5.41 20L4 18.59l7.72-7.72 1.47 1.35L5.41 20z\"/>\n",
              "  </svg>\n",
              "      </button>\n",
              "      \n",
              "  <style>\n",
              "    .colab-df-container {\n",
              "      display:flex;\n",
              "      flex-wrap:wrap;\n",
              "      gap: 12px;\n",
              "    }\n",
              "\n",
              "    .colab-df-convert {\n",
              "      background-color: #E8F0FE;\n",
              "      border: none;\n",
              "      border-radius: 50%;\n",
              "      cursor: pointer;\n",
              "      display: none;\n",
              "      fill: #1967D2;\n",
              "      height: 32px;\n",
              "      padding: 0 0 0 0;\n",
              "      width: 32px;\n",
              "    }\n",
              "\n",
              "    .colab-df-convert:hover {\n",
              "      background-color: #E2EBFA;\n",
              "      box-shadow: 0px 1px 2px rgba(60, 64, 67, 0.3), 0px 1px 3px 1px rgba(60, 64, 67, 0.15);\n",
              "      fill: #174EA6;\n",
              "    }\n",
              "\n",
              "    [theme=dark] .colab-df-convert {\n",
              "      background-color: #3B4455;\n",
              "      fill: #D2E3FC;\n",
              "    }\n",
              "\n",
              "    [theme=dark] .colab-df-convert:hover {\n",
              "      background-color: #434B5C;\n",
              "      box-shadow: 0px 1px 3px 1px rgba(0, 0, 0, 0.15);\n",
              "      filter: drop-shadow(0px 1px 2px rgba(0, 0, 0, 0.3));\n",
              "      fill: #FFFFFF;\n",
              "    }\n",
              "  </style>\n",
              "\n",
              "      <script>\n",
              "        const buttonEl =\n",
              "          document.querySelector('#df-3242876d-1f52-43d2-b19d-349d6e74e8a9 button.colab-df-convert');\n",
              "        buttonEl.style.display =\n",
              "          google.colab.kernel.accessAllowed ? 'block' : 'none';\n",
              "\n",
              "        async function convertToInteractive(key) {\n",
              "          const element = document.querySelector('#df-3242876d-1f52-43d2-b19d-349d6e74e8a9');\n",
              "          const dataTable =\n",
              "            await google.colab.kernel.invokeFunction('convertToInteractive',\n",
              "                                                     [key], {});\n",
              "          if (!dataTable) return;\n",
              "\n",
              "          const docLinkHtml = 'Like what you see? Visit the ' +\n",
              "            '<a target=\"_blank\" href=https://colab.research.google.com/notebooks/data_table.ipynb>data table notebook</a>'\n",
              "            + ' to learn more about interactive tables.';\n",
              "          element.innerHTML = '';\n",
              "          dataTable['output_type'] = 'display_data';\n",
              "          await google.colab.output.renderOutput(dataTable, element);\n",
              "          const docLink = document.createElement('div');\n",
              "          docLink.innerHTML = docLinkHtml;\n",
              "          element.appendChild(docLink);\n",
              "        }\n",
              "      </script>\n",
              "    </div>\n",
              "  </div>\n",
              "  "
            ]
          },
          "metadata": {},
          "execution_count": 3
        }
      ],
      "source": [
        "import pandas as pd\n",
        "\n",
        "# lê o dataset e confere o conteúdo\n",
        "data = pd.read_csv(\"/content/drive/MyDrive/Faculdade/Aprendizado de Máquina/german.csv\")\n",
        "data.head()"
      ]
    },
    {
      "cell_type": "markdown",
      "metadata": {
        "id": "FxNiv3Lmb4OZ"
      },
      "source": [
        "#### 4.a Valores Faltantes ou Errôneos\n",
        "Olhe o site de origem da base para entender o significado de cada coluna. Com a semântica das colunas em mente, considere a coluna `Duration in month` e identifique se existem valores faltantes ou errôneos. Caso existam, remova as linhas que contêm esses valores.\n",
        "\n",
        "> **ERRATA:** Considere a coluna `Duration in month` para buscar valores errôneos, mas considere *todos os atributos* em relação a valores faltantes \n",
        "\n",
        "Quantos exemplos faltantes ou errôneos foram encontrados?\n",
        "\n",
        "(a) 0\n",
        "\n",
        "(b) 2\n",
        "\n",
        "(c) 3\n",
        "\n",
        "(d) 4\n"
      ]
    },
    {
      "cell_type": "code",
      "execution_count": null,
      "metadata": {
        "colab": {
          "base_uri": "https://localhost:8080/"
        },
        "id": "5oJcXhIdb4Oa",
        "outputId": "59602adf-473c-4f27-a7cf-3889f40bd661"
      },
      "outputs": [
        {
          "output_type": "stream",
          "name": "stdout",
          "text": [
            "Dados totais iniciais: (1000, 21)\n",
            "Dados faltantes, por coluna: \n",
            " 0     0\n",
            "1     0\n",
            "2     0\n",
            "3     1\n",
            "4     1\n",
            "5     0\n",
            "6     0\n",
            "7     0\n",
            "8     0\n",
            "9     0\n",
            "10    0\n",
            "11    0\n",
            "12    0\n",
            "13    0\n",
            "14    0\n",
            "15    0\n",
            "16    0\n",
            "17    0\n",
            "18    0\n",
            "19    0\n",
            "20    0\n",
            "dtype: int64\n",
            "Dados da coluna 'Duration in month': \n",
            "  24    184\n",
            " 12    178\n",
            " 18    113\n",
            " 36     83\n",
            " 6      75\n",
            " 15     64\n",
            " 9      49\n",
            " 48     48\n",
            " 30     40\n",
            " 21     30\n",
            " 10     28\n",
            " 27     13\n",
            " 60     13\n",
            " 42     11\n",
            " 11      9\n",
            " 20      8\n",
            " 8       7\n",
            " 4       6\n",
            " 7       5\n",
            " 39      5\n",
            " 45      4\n",
            " 13      4\n",
            " 14      4\n",
            " 33      3\n",
            " 28      3\n",
            " 16      2\n",
            " 54      2\n",
            " 22      2\n",
            "-12      1\n",
            " 47      1\n",
            " 5       1\n",
            " 26      1\n",
            " 72      1\n",
            " 40      1\n",
            "-6       1\n",
            "Name: 1, dtype: int64\n",
            "Após remoção das linhas com valores faltantes: (996, 21)\n"
          ]
        }
      ],
      "source": [
        "data_german = pd.read_csv(\"/content/drive/MyDrive/Faculdade/Aprendizado de Máquina/german.csv\")\n",
        "print(\"Dados totais iniciais:\", data_german.shape)\n",
        "\n",
        "#descobrindo dados faltantes, por coluna\n",
        "print(\"Dados faltantes, por coluna: \\n\", data_german.isnull().sum())\n",
        "\n",
        "#'Duration in month' é composta por dados numéricos de tempo, portanto, considerarei valores errôneos dados não numéricos ou dados negativos\n",
        "print(\"Dados da coluna 'Duration in month': \\n\", data_german['1'].value_counts())\n",
        "\n",
        "#removendo valores erroneos encontrados\n",
        "data_german = data_german.where(data_german['1'] != -12) \n",
        "data_german = data_german.where(data_german['1'] != -6) \n",
        "\n",
        "# print(\"Dados da coluna 'Duration in month', agora sem valores errados(negativos): \\n\", data_german['1'].value_counts())\n",
        "\n",
        "#agora, sem os valores negativos: remoção das linhas com valores faltantes\n",
        "data_german = data_german.dropna()\n",
        "print(\"Após remoção das linhas com valores faltantes:\", data_german.shape)\n",
        "\n",
        "\n",
        "\n",
        "\n",
        "\n",
        "\n",
        "\n"
      ]
    },
    {
      "cell_type": "markdown",
      "metadata": {
        "id": "0HXzl4lEb4Oa"
      },
      "source": [
        "#### 4.b Análise dos Atributos\n",
        "\n",
        "Considere a base de dados original. Antes de realizar aprendizado sobre uma base de dados, é importante identificarmos se existem atributos categóricos na base. Para o uso da maioria dos métodos que veremos em aula, atributos categóricos precisam ser convertidos para numéricos. Considere apenas os atributos e não o rótulo (última coluna).\n",
        "\n",
        "Identifique os atributos categóricos na base de dados e os converta usando a técnica one-hot encoding (método `get_dummies` no `pandas`).\n",
        "\n",
        "Qual o número de atributos total ao final da conversão?\n",
        "\n",
        "\n",
        "(a) 75\n",
        "\n",
        "(b) 62\n",
        "\n",
        "(c) 21\n",
        "\n",
        "(d) 76"
      ]
    },
    {
      "cell_type": "code",
      "execution_count": null,
      "metadata": {
        "colab": {
          "base_uri": "https://localhost:8080/"
        },
        "id": "JHIO2q4ib4Oa",
        "outputId": "1f7765e5-df96-49f0-a80a-ed34b0e96664"
      },
      "outputs": [
        {
          "output_type": "stream",
          "name": "stdout",
          "text": [
            "      1       4  7  10  12  15  17  20  0_A11  0_A12  ...  14_A152  14_A153  \\\n",
            "0     6  1169.0  4   4  67   2   1   1      1      0  ...        1        0   \n",
            "1    48  5951.0  2   2  22   1   1   2      0      1  ...        1        0   \n",
            "2    12  2096.0  2   3  49   1   2   1      0      0  ...        1        0   \n",
            "3    42  7882.0  2   4  45   1   2   1      1      0  ...        0        1   \n",
            "4    24  4870.0  3   4  53   2   2   2      1      0  ...        0        1   \n",
            "..   ..     ... ..  ..  ..  ..  ..  ..    ...    ...  ...      ...      ...   \n",
            "995  12  1736.0  3   4  31   1   1   1      0      0  ...        1        0   \n",
            "996  30  3857.0  4   4  40   1   1   1      1      0  ...        1        0   \n",
            "997  12   804.0  4   4  38   1   1   1      0      0  ...        1        0   \n",
            "998  45  1845.0  4   4  23   1   1   2      1      0  ...        0        1   \n",
            "999  -6  4576.0  3   4  27   1   1   1      0      1  ...        1        0   \n",
            "\n",
            "     16_A171  16_A172  16_A173  16_A174  18_A191  18_A192  19_A201  19_A202  \n",
            "0          0        0        1        0        0        1        1        0  \n",
            "1          0        0        1        0        1        0        1        0  \n",
            "2          0        1        0        0        1        0        1        0  \n",
            "3          0        0        1        0        1        0        1        0  \n",
            "4          0        0        1        0        1        0        1        0  \n",
            "..       ...      ...      ...      ...      ...      ...      ...      ...  \n",
            "995        0        1        0        0        1        0        1        0  \n",
            "996        0        0        0        1        0        1        1        0  \n",
            "997        0        0        1        0        1        0        1        0  \n",
            "998        0        0        1        0        0        1        1        0  \n",
            "999        0        0        1        0        1        0        1        0  \n",
            "\n",
            "[1000 rows x 62 columns]\n"
          ]
        }
      ],
      "source": [
        "#considerando a base de dados original\n",
        "data_german = pd.read_csv(\"/content/drive/MyDrive/Faculdade/Aprendizado de Máquina/german.csv\")\n",
        "#print(\"Dados totais iniciais:\", data_german.shape)\n",
        "\n",
        "#conversão usando a técnica one-hot encoding, e desconsiderando os valores nulos\n",
        "dummy_vars = pd.get_dummies(data_german, dummy_na=False)\n",
        "print(dummy_vars)\n",
        "\n"
      ]
    },
    {
      "cell_type": "markdown",
      "metadata": {
        "id": "Am2j7wHeb4Oa"
      },
      "source": [
        "#### 4.c Detecção de Outliers\n",
        "\n",
        "Considere a base de dados original. Realize uma análise usando o intervalo interquartil no atributo `Credit amount` para detecção de outliers. ~~Considere um valor outlier quando ele for 3.0 vezes o IQR (Q_3 - Q_1) maior ou menor do que a mediana (Q_2).~~\n",
        "\n",
        "> **ERRATA:** Considerem a definição padrão para detecção de outliers usando IQR, mas com multiplicador 3.0: maior que $Q_3+(\\text{IQR}*3.0)$ ou menor que $Q_1-(\\text{IQR}*3.0)$\n",
        "\n",
        "Qual a média dos outliers encontrados?\n",
        "\n",
        "(a) Aproximadamente 11 mil\n",
        "\n",
        "(b) Aproximadamente 14 mil\n",
        "\n",
        "(c) Aproximadamente 3 mil\n",
        "\n",
        "(d) Aproximadamente 5 mil"
      ]
    },
    {
      "cell_type": "code",
      "execution_count": null,
      "metadata": {
        "id": "aI_v0Dnib4Ob",
        "colab": {
          "base_uri": "https://localhost:8080/"
        },
        "outputId": "bcbce998-9067-40c2-a63c-fd78759ebfc5"
      },
      "outputs": [
        {
          "output_type": "stream",
          "name": "stdout",
          "text": [
            "Dados totais iniciais: (1000, 21)\n",
            "IQR = 2607.50\n",
            "Outliers: 24\n",
            "Media dos outliers: 13858.125\n"
          ]
        }
      ],
      "source": [
        "#considerando a base de dados original\n",
        "data_german = pd.read_csv(\"/content/drive/MyDrive/Faculdade/Aprendizado de Máquina/german.csv\")\n",
        "print(\"Dados totais iniciais:\", data_german.shape)\n",
        "\n",
        "Q1 = data_german['4'].quantile(0.25)\n",
        "Q3 = data_german['4'].quantile(0.75)\n",
        "IQR = Q3 - Q1\n",
        "\n",
        "print(\"IQR = %.2f\" % IQR)\n",
        "\n",
        "dataout_iqr = data_german[(data_german['4'] < Q1-(IQR*3.0)) | (data_german['4'] > Q3+(IQR*3.0))]\n",
        "print(\"Outliers:\", len(dataout_iqr))\n",
        "media = dataout_iqr.loc[dataout_iqr['4'].notnull(),'4'].mean()\n",
        "print(\"Media dos outliers:\", media)\n",
        "\n"
      ]
    },
    {
      "cell_type": "markdown",
      "metadata": {
        "id": "ZoeR08vAb4Ob"
      },
      "source": [
        "#### Avaliação do Modelo\n",
        "\n",
        "Aplique as alterações propostas nos exercícios 4(a), 4(b) e 4(c) no conjunto de dados, ou seja, remova dados errôneos ou faltantes, codifique os dados categóricos e remova outliers. Separe os atributos do rótulo.\n",
        "\n",
        "Você deverá dividir a base de dados de forma a ter um conjunto de Teste, um de Treino e um de Validação (*hold-out*)\n",
        "\n",
        "Primeiro, separe 90% dos exemplos para o conjunto de Treino, 10% para Teste. Use `random_state=1` na função `sklearn.model_selection.train_test_split`."
      ]
    },
    {
      "cell_type": "code",
      "execution_count": null,
      "metadata": {
        "id": "xe8Rv6qCb4Ob",
        "colab": {
          "base_uri": "https://localhost:8080/"
        },
        "outputId": "96c6a048-6107-451f-e45c-0115782d39eb"
      },
      "outputs": [
        {
          "output_type": "stream",
          "name": "stdout",
          "text": [
            "Dados totais iniciais: (1000, 21)\n",
            "Dados totais 1: (1000, 21)\n",
            "Dados totais 2: (996, 21)\n",
            "Dados totais 3: (996, 62)\n",
            "Dados totais finais: (972, 62)\n",
            "      1       4    7   10    12   15   17  0_A11  0_A12  0_A13  ...  14_A152  \\\n",
            "0   6.0  1169.0  4.0  4.0  67.0  2.0  1.0      1      0      0  ...        1   \n",
            "1  48.0  5951.0  2.0  2.0  22.0  1.0  1.0      0      1      0  ...        1   \n",
            "2  12.0  2096.0  2.0  3.0  49.0  1.0  2.0      0      0      0  ...        1   \n",
            "3  42.0  7882.0  2.0  4.0  45.0  1.0  2.0      1      0      0  ...        0   \n",
            "4  24.0  4870.0  3.0  4.0  53.0  2.0  2.0      1      0      0  ...        0   \n",
            "\n",
            "   14_A153  16_A171  16_A172  16_A173  16_A174  18_A191  18_A192  19_A201  \\\n",
            "0        0        0        0        1        0        0        1        1   \n",
            "1        0        0        0        1        0        1        0        1   \n",
            "2        0        0        1        0        0        1        0        1   \n",
            "3        1        0        0        1        0        1        0        1   \n",
            "4        1        0        0        1        0        1        0        1   \n",
            "\n",
            "   19_A202  \n",
            "0        0  \n",
            "1        0  \n",
            "2        0  \n",
            "3        0  \n",
            "4        0  \n",
            "\n",
            "[5 rows x 61 columns]\n",
            "Conjunto de dados  (972, 61)\n",
            "Conjunto de rótulos  (972,)\n"
          ]
        }
      ],
      "source": [
        "import sklearn\n",
        "import sklearn.model_selection\n",
        "\n",
        "data_german = pd.read_csv(\"/content/drive/MyDrive/Faculdade/Aprendizado de Máquina/german.csv\")\n",
        "print(\"Dados totais iniciais:\", data_german.shape)\n",
        "\n",
        "#removendo valores erroneos encontrados\n",
        "data_german = data_german.where(data_german['1'] != -12) \n",
        "data_german = data_german.where(data_german['1'] != -6) \n",
        "\n",
        "print(\"Dados totais 1:\", data_german.shape)\n",
        "#agora, sem os valores negativos: remoção das linhas com valores faltantes\n",
        "data_german = data_german.dropna()\n",
        "print(\"Dados totais 2:\", data_german.shape)\n",
        "\n",
        "data_german = pd.get_dummies(data_german, dummy_na=False)\n",
        "print(\"Dados totais 3:\", data_german.shape)\n",
        "\n",
        "#remoção dos outliers\n",
        "data_german = data_german.drop(dataout_iqr.index)\n",
        "print(\"Dados totais finais:\", data_german.shape)\n",
        "\n",
        "# separa os atributos do rótulo\n",
        "Y_data_german = data_german['20']\n",
        "del data_german['20']\n",
        "\n",
        "print(data_german.head())\n",
        "\n",
        "print(\"Conjunto de dados \", data_german.shape)\n",
        "print(\"Conjunto de rótulos \", Y_data_german.shape)"
      ]
    },
    {
      "cell_type": "code",
      "execution_count": null,
      "metadata": {
        "id": "qs3o6JAIb4Oc",
        "colab": {
          "base_uri": "https://localhost:8080/"
        },
        "outputId": "1cd4724c-a74c-4697-a59e-3545908636ca"
      },
      "outputs": [
        {
          "output_type": "stream",
          "name": "stdout",
          "text": [
            "(874, 61)\n",
            "(98, 61)\n"
          ]
        }
      ],
      "source": [
        "# separa em treino e teste\n",
        "x_train, x_test, y_train, y_test = sklearn.model_selection.train_test_split(data_german, Y_data_german, test_size=0.1, random_state=1)\n",
        "\n",
        "print(x_train.shape)\n",
        "print(x_test.shape)"
      ]
    },
    {
      "cell_type": "markdown",
      "metadata": {
        "id": "oXgSBQxUb4Oc"
      },
      "source": [
        "Agora, considerando a técnica de avaliação *hold-out*, separe o conjunto de Treino em dois, deixando um para Treino (vamos chama-lo de Treino_holdout) e um para Validação. Use `random_state=2` na função `sklearn.model_selection.train_test_split`."
      ]
    },
    {
      "cell_type": "code",
      "execution_count": null,
      "metadata": {
        "id": "2X8Ush4fb4Oc",
        "colab": {
          "base_uri": "https://localhost:8080/"
        },
        "outputId": "2c2199fd-63e8-418c-b9e1-efe0d7032e3c"
      },
      "outputs": [
        {
          "output_type": "stream",
          "name": "stdout",
          "text": [
            "(786, 61)\n",
            "(88, 61)\n"
          ]
        }
      ],
      "source": [
        "# separa treino e validação\n",
        "x_treino_holdout, x_validacao, y_treino_holdout, y_validacao= sklearn.model_selection.train_test_split(x_train, y_train, test_size=0.1, random_state=2)\n",
        "\n",
        "print(x_treino_holdout.shape)\n",
        "print(x_validacao.shape)"
      ]
    },
    {
      "cell_type": "markdown",
      "metadata": {
        "id": "11Vc7Cmqb4Oc"
      },
      "source": [
        "Usando o conjunto Treino_holdout e Validação, encontre o melhor parâmetro k (`n_neighbours` na função do sklearn) para o algoritmo K-Vizinhos Mais Próximos (`sklearn.neighbors.KNeighborsClassifier`), comparando os valores `[1, 3, 5]` e usando como métrica a acurácia no conjunto de validação."
      ]
    },
    {
      "cell_type": "code",
      "execution_count": null,
      "metadata": {
        "id": "KKXkWyYJb4Oc",
        "colab": {
          "base_uri": "https://localhost:8080/"
        },
        "outputId": "a64feadc-d90f-4b0a-c9e8-109627a7daea"
      },
      "outputs": [
        {
          "output_type": "stream",
          "name": "stdout",
          "text": [
            "acurácia para n_neighbor = 1: 0.6136363636363636\n",
            "acurácia para n_neighbor = 3: 0.625\n",
            "acurácia para n_neighbor = 5: 0.6363636363636364\n",
            "      1       4    7   10    12   15   17  0_A11  0_A12  0_A13  ...  14_A152  \\\n",
            "0   6.0  1169.0  4.0  4.0  67.0  2.0  1.0      1      0      0  ...        1   \n",
            "1  48.0  5951.0  2.0  2.0  22.0  1.0  1.0      0      1      0  ...        1   \n",
            "2  12.0  2096.0  2.0  3.0  49.0  1.0  2.0      0      0      0  ...        1   \n",
            "3  42.0  7882.0  2.0  4.0  45.0  1.0  2.0      1      0      0  ...        0   \n",
            "4  24.0  4870.0  3.0  4.0  53.0  2.0  2.0      1      0      0  ...        0   \n",
            "\n",
            "   14_A153  16_A171  16_A172  16_A173  16_A174  18_A191  18_A192  19_A201  \\\n",
            "0        0        0        0        1        0        0        1        1   \n",
            "1        0        0        0        1        0        1        0        1   \n",
            "2        0        0        1        0        0        1        0        1   \n",
            "3        1        0        0        1        0        1        0        1   \n",
            "4        1        0        0        1        0        1        0        1   \n",
            "\n",
            "   19_A202  \n",
            "0        0  \n",
            "1        0  \n",
            "2        0  \n",
            "3        0  \n",
            "4        0  \n",
            "\n",
            "[5 rows x 61 columns]\n"
          ]
        }
      ],
      "source": [
        "from sklearn.model_selection import StratifiedKFold\n",
        "from sklearn.neighbors import KNeighborsClassifier\n",
        "from sklearn.model_selection import cross_val_score\n",
        "\n",
        "#definição dos classificadores\n",
        "knn_1 = KNeighborsClassifier(n_neighbors=1)\n",
        "knn_3 = KNeighborsClassifier(n_neighbors=3)\n",
        "knn_5 = KNeighborsClassifier(n_neighbors=5)\n",
        "\n",
        "#treinamento\n",
        "treinamento_1 = knn_1.fit(x_treino_holdout, y_treino_holdout)\n",
        "treinamento_3 = knn_3.fit(x_treino_holdout, y_treino_holdout)\n",
        "treinamento_5 = knn_5.fit(x_treino_holdout, y_treino_holdout)\n",
        "\n",
        "#validação\n",
        "score_1 = treinamento_1.score(x_validacao, y_validacao)\n",
        "score_3 =treinamento_3.score(x_validacao, y_validacao)\n",
        "score_5 =treinamento_5.score(x_validacao, y_validacao)\n",
        "\n",
        "\n",
        "\n",
        "print(\"acurácia para n_neighbor = 1:\", score_1.mean())\n",
        "print(\"acurácia para n_neighbor = 3:\", score_3.mean())\n",
        "print(\"acurácia para n_neighbor = 5:\", score_5.mean())\n",
        "\n",
        "print(data_german.head())\n",
        "\n",
        "\n",
        "\n",
        "\n",
        "\n"
      ]
    },
    {
      "cell_type": "markdown",
      "metadata": {
        "id": "9HNOdmIcb4Od"
      },
      "source": [
        "#### 4.d Qual valor de k obteve a melhor acurácia no conjunto de validação?\n",
        "\n",
        "(a) 1\n",
        "\n",
        "(b) 2\n",
        "\n",
        "(c) 3\n",
        "\n",
        "(d) 5"
      ]
    },
    {
      "cell_type": "markdown",
      "metadata": {
        "id": "SBR6xveFb4Od"
      },
      "source": [
        "#### 4.e Utilize o parâmetro selecionado para treinar usando todo o conjunto de Treino. Qual foi a acurácia resultante no conjunto de Teste\n",
        "\n",
        "(a) Aproximadamente 63.5%\n",
        "\n",
        "(b) Aproximadamente 67.4%\n",
        "\n",
        "(c) Aproximadamente 68.4%\n",
        "\n",
        "(d) Aproximadamente 72.7%"
      ]
    },
    {
      "cell_type": "code",
      "execution_count": null,
      "metadata": {
        "id": "nLg2kZMQb4Od",
        "colab": {
          "base_uri": "https://localhost:8080/"
        },
        "outputId": "c9613faa-091e-4166-97a0-1de7cd5c4b5c"
      },
      "outputs": [
        {
          "output_type": "stream",
          "name": "stdout",
          "text": [
            "Acurácia resultante: 0.673469387755102\n"
          ]
        }
      ],
      "source": [
        "#treinamento com o parâmetro selecionado (no caso, knn_5)\n",
        "treinamento = knn_5.fit(x_train, y_train)\n",
        "\n",
        "#acurácia resultante\n",
        "score =treinamento.score(x_test, y_test)\n",
        "\n",
        "print(\"Acurácia resultante:\", score)"
      ]
    }
  ],
  "metadata": {
    "kernelspec": {
      "display_name": "Python 3",
      "language": "python",
      "name": "python3"
    },
    "language_info": {
      "codemirror_mode": {
        "name": "ipython",
        "version": 3
      },
      "file_extension": ".py",
      "mimetype": "text/x-python",
      "name": "python",
      "nbconvert_exporter": "python",
      "pygments_lexer": "ipython3",
      "version": "3.8.10"
    },
    "colab": {
      "name": "E01-V2-finalizado.ipynb",
      "provenance": [],
      "collapsed_sections": [],
      "include_colab_link": true
    }
  },
  "nbformat": 4,
  "nbformat_minor": 0
}